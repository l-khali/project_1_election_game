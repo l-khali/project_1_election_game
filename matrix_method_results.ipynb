{
 "cells": [
  {
   "cell_type": "code",
   "execution_count": 1,
   "metadata": {},
   "outputs": [],
   "source": [
    "import matrix_method_functions"
   ]
  },
  {
   "cell_type": "markdown",
   "metadata": {},
   "source": [
    "### Uniform"
   ]
  },
  {
   "cell_type": "code",
   "execution_count": 2,
   "metadata": {},
   "outputs": [
    {
     "data": {
      "text/plain": [
       "array([[4, 4],\n",
       "       [4, 5],\n",
       "       [5, 5]], dtype=int64)"
      ]
     },
     "execution_count": 2,
     "metadata": {},
     "output_type": "execute_result"
    }
   ],
   "source": [
    "matrix_method_functions.election_eq(2, 10)"
   ]
  },
  {
   "cell_type": "code",
   "execution_count": 3,
   "metadata": {},
   "outputs": [
    {
     "data": {
      "text/plain": [
       "array([], dtype=float64)"
      ]
     },
     "execution_count": 3,
     "metadata": {},
     "output_type": "execute_result"
    }
   ],
   "source": [
    "matrix_method_functions.election_eq(3, 10)"
   ]
  },
  {
   "cell_type": "code",
   "execution_count": 4,
   "metadata": {},
   "outputs": [
    {
     "data": {
      "text/plain": [
       "array([[2, 2, 6, 7],\n",
       "       [2, 2, 7, 7],\n",
       "       [2, 3, 7, 7]], dtype=int64)"
      ]
     },
     "execution_count": 4,
     "metadata": {},
     "output_type": "execute_result"
    }
   ],
   "source": [
    "matrix_method_functions.election_eq(4, 10)"
   ]
  },
  {
   "cell_type": "code",
   "execution_count": 5,
   "metadata": {},
   "outputs": [
    {
     "data": {
      "text/plain": [
       "array([[1, 1, 4, 7, 8],\n",
       "       [1, 2, 4, 7, 8],\n",
       "       [1, 2, 5, 7, 8],\n",
       "       [1, 2, 5, 8, 8]], dtype=int64)"
      ]
     },
     "execution_count": 5,
     "metadata": {},
     "output_type": "execute_result"
    }
   ],
   "source": [
    "matrix_method_functions.election_eq(5, 10)"
   ]
  },
  {
   "cell_type": "code",
   "execution_count": 6,
   "metadata": {},
   "outputs": [
    {
     "data": {
      "text/plain": [
       "array([[1, 1, 3, 5, 7, 8],\n",
       "       [1, 1, 4, 4, 7, 8],\n",
       "       [1, 1, 4, 5, 7, 8],\n",
       "       [1, 1, 4, 5, 8, 8],\n",
       "       [1, 2, 4, 5, 7, 8],\n",
       "       [1, 2, 4, 5, 8, 8],\n",
       "       [1, 2, 4, 6, 8, 8],\n",
       "       [1, 2, 5, 5, 8, 8]], dtype=int64)"
      ]
     },
     "execution_count": 6,
     "metadata": {},
     "output_type": "execute_result"
    }
   ],
   "source": [
    "matrix_method_functions.election_eq(6, 10)"
   ]
  },
  {
   "cell_type": "code",
   "execution_count": 7,
   "metadata": {},
   "outputs": [
    {
     "data": {
      "text/plain": [
       "array([[0, 1, 2, 3, 5, 7, 8],\n",
       "       [0, 1, 2, 4, 5, 7, 8],\n",
       "       [0, 1, 2, 4, 6, 8, 8],\n",
       "       [1, 1, 2, 3, 5, 7, 8],\n",
       "       [1, 1, 2, 4, 5, 7, 8],\n",
       "       [1, 1, 2, 4, 6, 8, 8],\n",
       "       [1, 1, 3, 3, 5, 7, 8],\n",
       "       [1, 1, 3, 4, 5, 7, 8],\n",
       "       [1, 1, 3, 4, 6, 8, 8],\n",
       "       [1, 1, 3, 5, 5, 7, 8],\n",
       "       [1, 1, 3, 5, 6, 8, 8],\n",
       "       [1, 1, 3, 5, 7, 8, 8],\n",
       "       [1, 1, 3, 5, 7, 8, 9],\n",
       "       [1, 2, 4, 4, 6, 8, 8],\n",
       "       [1, 2, 4, 5, 6, 8, 8],\n",
       "       [1, 2, 4, 5, 7, 8, 8],\n",
       "       [1, 2, 4, 5, 7, 8, 9],\n",
       "       [1, 2, 4, 6, 6, 8, 8],\n",
       "       [1, 2, 4, 6, 7, 8, 8],\n",
       "       [1, 2, 4, 6, 7, 8, 9]], dtype=int64)"
      ]
     },
     "execution_count": 7,
     "metadata": {},
     "output_type": "execute_result"
    }
   ],
   "source": [
    "matrix_method_functions.election_eq(7, 10)"
   ]
  },
  {
   "cell_type": "markdown",
   "metadata": {},
   "source": [
    "### Normal"
   ]
  },
  {
   "cell_type": "code",
   "execution_count": 8,
   "metadata": {},
   "outputs": [
    {
     "data": {
      "text/plain": [
       "array([[4, 4],\n",
       "       [5, 5]], dtype=int64)"
      ]
     },
     "execution_count": 8,
     "metadata": {},
     "output_type": "execute_result"
    }
   ],
   "source": [
    "matrix_method_functions.norm_election_eq(2, 10)"
   ]
  },
  {
   "cell_type": "code",
   "execution_count": 9,
   "metadata": {},
   "outputs": [
    {
     "data": {
      "text/plain": [
       "array([], dtype=float64)"
      ]
     },
     "execution_count": 9,
     "metadata": {},
     "output_type": "execute_result"
    }
   ],
   "source": [
    "matrix_method_functions.norm_election_eq(3, 10)"
   ]
  },
  {
   "cell_type": "code",
   "execution_count": 10,
   "metadata": {},
   "outputs": [
    {
     "data": {
      "text/plain": [
       "array([[3, 3, 6, 6]], dtype=int64)"
      ]
     },
     "execution_count": 10,
     "metadata": {},
     "output_type": "execute_result"
    }
   ],
   "source": [
    "matrix_method_functions.norm_election_eq(4, 10)"
   ]
  },
  {
   "cell_type": "code",
   "execution_count": 11,
   "metadata": {},
   "outputs": [
    {
     "data": {
      "text/plain": [
       "array([], dtype=float64)"
      ]
     },
     "execution_count": 11,
     "metadata": {},
     "output_type": "execute_result"
    }
   ],
   "source": [
    "matrix_method_functions.norm_election_eq(5, 10)"
   ]
  },
  {
   "cell_type": "code",
   "execution_count": 12,
   "metadata": {},
   "outputs": [
    {
     "data": {
      "text/plain": [
       "array([[2, 3, 4, 5, 6, 7]], dtype=int64)"
      ]
     },
     "execution_count": 12,
     "metadata": {},
     "output_type": "execute_result"
    }
   ],
   "source": [
    "matrix_method_functions.norm_election_eq(6, 10)"
   ]
  },
  {
   "cell_type": "code",
   "execution_count": 13,
   "metadata": {},
   "outputs": [
    {
     "data": {
      "text/plain": [
       "array([[2, 2, 3, 4, 5, 6, 7],\n",
       "       [2, 3, 4, 5, 6, 7, 7]], dtype=int64)"
      ]
     },
     "execution_count": 13,
     "metadata": {},
     "output_type": "execute_result"
    }
   ],
   "source": [
    "matrix_method_functions.norm_election_eq(7, 10)"
   ]
  },
  {
   "cell_type": "code",
   "execution_count": null,
   "metadata": {},
   "outputs": [],
   "source": []
  }
 ],
 "metadata": {
  "kernelspec": {
   "display_name": "Python 3",
   "language": "python",
   "name": "python3"
  },
  "language_info": {
   "codemirror_mode": {
    "name": "ipython",
    "version": 3
   },
   "file_extension": ".py",
   "mimetype": "text/x-python",
   "name": "python",
   "nbconvert_exporter": "python",
   "pygments_lexer": "ipython3",
   "version": "3.9.13"
  }
 },
 "nbformat": 4,
 "nbformat_minor": 2
}
