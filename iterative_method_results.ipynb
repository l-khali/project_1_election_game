{
 "cells": [
  {
   "cell_type": "code",
   "execution_count": 3,
   "metadata": {},
   "outputs": [],
   "source": [
    "import iterative_method_functions"
   ]
  },
  {
   "attachments": {},
   "cell_type": "markdown",
   "metadata": {},
   "source": [
    "### Uniform"
   ]
  },
  {
   "cell_type": "code",
   "execution_count": 4,
   "metadata": {},
   "outputs": [
    {
     "data": {
      "image/png": "[encoded data removed]",
      "text/plain": [
       "<Figure size 432x288 with 1 Axes>"
      ]
     },
     "metadata": {
      "needs_background": "light"
     },
     "output_type": "display_data"
    },
    {
     "data": {
      "text/plain": [
       "[[5, 4], [5, 5], [4, 4]]"
      ]
     },
     "execution_count": 4,
     "metadata": {},
     "output_type": "execute_result"
    }
   ],
   "source": [
    "iterative_method_functions.election_equilibrium(2,10)"
   ]
  },
  {
   "cell_type": "code",
   "execution_count": 3,
   "metadata": {},
   "outputs": [
    {
     "name": "stdout",
     "output_type": "stream",
     "text": [
      "No equilibria found after 1000 simulations!\n"
     ]
    }
   ],
   "source": [
    "iterative_method_functions.election_equilibrium(3,10)"
   ]
  },
  {
   "cell_type": "code",
   "execution_count": 36,
   "metadata": {},
   "outputs": [
    {
     "data": {
      "text/plain": [
       "[{0: 0, 1: 0, 2: 1, 3: 1, 4: 0, 5: 0, 6: 0, 7: 2, 8: 0, 9: 0},\n",
       " {0: 0, 1: 0, 2: 2, 3: 0, 4: 0, 5: 0, 6: 1, 7: 1, 8: 0, 9: 0},\n",
       " {0: 0, 1: 0, 2: 2, 3: 0, 4: 0, 5: 0, 6: 0, 7: 2, 8: 0, 9: 0}]"
      ]
     },
     "execution_count": 36,
     "metadata": {},
     "output_type": "execute_result"
    }
   ],
   "source": [
    "iterative_method_functions.election_equilibrium(4,10)"
   ]
  },
  {
   "cell_type": "code",
   "execution_count": 37,
   "metadata": {},
   "outputs": [
    {
     "data": {
      "text/plain": [
       "[{0: 0, 1: 1, 2: 1, 3: 0, 4: 0, 5: 1, 6: 0, 7: 1, 8: 1, 9: 0},\n",
       " {0: 0, 1: 1, 2: 1, 3: 0, 4: 1, 5: 0, 6: 0, 7: 1, 8: 1, 9: 0},\n",
       " {0: 0, 1: 1, 2: 1, 3: 0, 4: 0, 5: 1, 6: 0, 7: 0, 8: 2, 9: 0},\n",
       " {0: 0, 1: 2, 2: 0, 3: 0, 4: 1, 5: 0, 6: 0, 7: 1, 8: 1, 9: 0}]"
      ]
     },
     "execution_count": 37,
     "metadata": {},
     "output_type": "execute_result"
    }
   ],
   "source": [
    "iterative_method_functions.election_equilibrium(5,10)"
   ]
  },
  {
   "cell_type": "code",
   "execution_count": 38,
   "metadata": {},
   "outputs": [
    {
     "data": {
      "text/plain": [
       "[{0: 0, 1: 2, 2: 0, 3: 1, 4: 0, 5: 1, 6: 0, 7: 1, 8: 1, 9: 0},\n",
       " {0: 0, 1: 1, 2: 1, 3: 0, 4: 1, 5: 1, 6: 0, 7: 1, 8: 1, 9: 0},\n",
       " {0: 0, 1: 1, 2: 1, 3: 0, 4: 1, 5: 0, 6: 1, 7: 0, 8: 2, 9: 0},\n",
       " {0: 0, 1: 1, 2: 1, 3: 0, 4: 1, 5: 1, 6: 0, 7: 0, 8: 2, 9: 0},\n",
       " {0: 0, 1: 2, 2: 0, 3: 0, 4: 1, 5: 1, 6: 0, 7: 1, 8: 1, 9: 0},\n",
       " {0: 0, 1: 2, 2: 0, 3: 0, 4: 2, 5: 0, 6: 0, 7: 1, 8: 1, 9: 0},\n",
       " {0: 0, 1: 1, 2: 1, 3: 0, 4: 0, 5: 2, 6: 0, 7: 0, 8: 2, 9: 0},\n",
       " {0: 0, 1: 2, 2: 0, 3: 0, 4: 1, 5: 1, 6: 0, 7: 0, 8: 2, 9: 0}]"
      ]
     },
     "execution_count": 38,
     "metadata": {},
     "output_type": "execute_result"
    }
   ],
   "source": [
    "iterative_method_functions.election_equilibrium(6,10)"
   ]
  },
  {
   "cell_type": "code",
   "execution_count": 39,
   "metadata": {},
   "outputs": [
    {
     "data": {
      "text/plain": [
       "[{0: 0, 1: 1, 2: 1, 3: 0, 4: 1, 5: 0, 6: 1, 7: 1, 8: 1, 9: 1},\n",
       " {0: 0, 1: 1, 2: 1, 3: 0, 4: 1, 5: 1, 6: 1, 7: 0, 8: 2, 9: 0},\n",
       " {0: 0, 1: 2, 2: 0, 3: 1, 4: 1, 5: 0, 6: 1, 7: 0, 8: 2, 9: 0},\n",
       " {0: 0, 1: 2, 2: 0, 3: 1, 4: 1, 5: 1, 6: 0, 7: 1, 8: 1, 9: 0},\n",
       " {0: 0, 1: 2, 2: 0, 3: 1, 4: 0, 5: 1, 6: 1, 7: 0, 8: 2, 9: 0},\n",
       " {0: 1, 1: 1, 2: 1, 3: 0, 4: 1, 5: 1, 6: 0, 7: 1, 8: 1, 9: 0},\n",
       " {0: 0, 1: 2, 2: 0, 3: 1, 4: 0, 5: 1, 6: 0, 7: 1, 8: 1, 9: 1},\n",
       " {0: 0, 1: 2, 2: 0, 3: 2, 4: 0, 5: 1, 6: 0, 7: 1, 8: 1, 9: 0},\n",
       " {0: 0, 1: 1, 2: 1, 3: 0, 4: 2, 5: 0, 6: 1, 7: 0, 8: 2, 9: 0},\n",
       " {0: 0, 1: 2, 2: 1, 3: 0, 4: 1, 5: 0, 6: 1, 7: 0, 8: 2, 9: 0},\n",
       " {0: 0, 1: 1, 2: 1, 3: 0, 4: 1, 5: 1, 6: 0, 7: 1, 8: 1, 9: 1},\n",
       " {0: 0, 1: 2, 2: 0, 3: 1, 4: 0, 5: 2, 6: 0, 7: 1, 8: 1, 9: 0},\n",
       " {0: 0, 1: 2, 2: 0, 3: 1, 4: 0, 5: 1, 6: 0, 7: 1, 8: 2, 9: 0},\n",
       " {0: 0, 1: 1, 2: 1, 3: 0, 4: 1, 5: 0, 6: 1, 7: 1, 8: 2, 9: 0},\n",
       " {0: 1, 1: 1, 2: 1, 3: 0, 4: 1, 5: 0, 6: 1, 7: 0, 8: 2, 9: 0},\n",
       " {0: 0, 1: 2, 2: 1, 3: 0, 4: 1, 5: 1, 6: 0, 7: 1, 8: 1, 9: 0},\n",
       " {0: 0, 1: 1, 2: 1, 3: 0, 4: 1, 5: 0, 6: 2, 7: 0, 8: 2, 9: 0},\n",
       " {0: 1, 1: 1, 2: 1, 3: 1, 4: 0, 5: 1, 6: 0, 7: 1, 8: 1, 9: 0},\n",
       " {0: 0, 1: 1, 2: 1, 3: 0, 4: 1, 5: 1, 6: 0, 7: 1, 8: 2, 9: 0},\n",
       " {0: 0, 1: 2, 2: 1, 3: 1, 4: 0, 5: 1, 6: 0, 7: 1, 8: 1, 9: 0}]"
      ]
     },
     "execution_count": 39,
     "metadata": {},
     "output_type": "execute_result"
    }
   ],
   "source": [
    "iterative_method_functions.election_equilibrium(7,10)"
   ]
  },
  {
   "cell_type": "code",
   "execution_count": 40,
   "metadata": {},
   "outputs": [
    {
     "data": {
      "text/plain": [
       "[{0: 0, 1: 2, 2: 1, 3: 0, 4: 1, 5: 1, 6: 1, 7: 0, 8: 2, 9: 0},\n",
       " {0: 0, 1: 2, 2: 0, 3: 1, 4: 1, 5: 0, 6: 1, 7: 1, 8: 2, 9: 0},\n",
       " {0: 1, 1: 1, 2: 1, 3: 0, 4: 1, 5: 1, 6: 1, 7: 0, 8: 2, 9: 0},\n",
       " {0: 0, 1: 2, 2: 1, 3: 1, 4: 0, 5: 1, 6: 1, 7: 0, 8: 2, 9: 0},\n",
       " {0: 0, 1: 2, 2: 0, 3: 1, 4: 0, 5: 1, 6: 1, 7: 1, 8: 1, 9: 1},\n",
       " {0: 0, 1: 1, 2: 1, 3: 0, 4: 1, 5: 1, 6: 1, 7: 1, 8: 1, 9: 1},\n",
       " {0: 1, 1: 1, 2: 1, 3: 1, 4: 1, 5: 1, 6: 0, 7: 1, 8: 1, 9: 0},\n",
       " {0: 0, 1: 2, 2: 0, 3: 1, 4: 1, 5: 1, 6: 0, 7: 1, 8: 1, 9: 1},\n",
       " {0: 1, 1: 1, 2: 1, 3: 1, 4: 0, 5: 1, 6: 1, 7: 0, 8: 2, 9: 0},\n",
       " {0: 0, 1: 2, 2: 0, 3: 1, 4: 1, 5: 1, 6: 1, 7: 0, 8: 2, 9: 0},\n",
       " {0: 1, 1: 1, 2: 1, 3: 0, 4: 1, 5: 0, 6: 2, 7: 0, 8: 2, 9: 0},\n",
       " {0: 0, 1: 2, 2: 0, 3: 2, 4: 0, 5: 1, 6: 1, 7: 0, 8: 2, 9: 0},\n",
       " {0: 0, 1: 2, 2: 1, 3: 1, 4: 1, 5: 0, 6: 1, 7: 0, 8: 2, 9: 0},\n",
       " {0: 0, 1: 2, 2: 0, 3: 1, 4: 1, 5: 0, 6: 2, 7: 0, 8: 2, 9: 0},\n",
       " {0: 0, 1: 2, 2: 0, 3: 1, 4: 0, 5: 1, 6: 1, 7: 1, 8: 2, 9: 0},\n",
       " {0: 0, 1: 2, 2: 0, 3: 1, 4: 1, 5: 0, 6: 1, 7: 1, 8: 1, 9: 1},\n",
       " {0: 1, 1: 1, 2: 1, 3: 1, 4: 1, 5: 0, 6: 1, 7: 0, 8: 2, 9: 0},\n",
       " {0: 1, 1: 1, 2: 1, 3: 1, 4: 0, 5: 2, 6: 0, 7: 1, 8: 1, 9: 0},\n",
       " {0: 0, 1: 2, 2: 1, 3: 1, 4: 1, 5: 1, 6: 0, 7: 1, 8: 1, 9: 0},\n",
       " {0: 0, 1: 2, 2: 0, 3: 1, 4: 1, 5: 1, 6: 0, 7: 1, 8: 2, 9: 0},\n",
       " {0: 1, 1: 1, 2: 1, 3: 0, 4: 2, 5: 0, 6: 1, 7: 0, 8: 2, 9: 0},\n",
       " {0: 0, 1: 2, 2: 0, 3: 1, 4: 0, 5: 2, 6: 0, 7: 1, 8: 1, 9: 1},\n",
       " {0: 0, 1: 2, 2: 1, 3: 0, 4: 1, 5: 1, 6: 0, 7: 1, 8: 2, 9: 0},\n",
       " {0: 0, 1: 1, 2: 1, 3: 0, 4: 2, 5: 0, 6: 1, 7: 1, 8: 1, 9: 1},\n",
       " {0: 0, 1: 2, 2: 1, 3: 1, 4: 0, 5: 1, 6: 0, 7: 1, 8: 1, 9: 1},\n",
       " {0: 0, 1: 2, 2: 1, 3: 0, 4: 2, 5: 0, 6: 1, 7: 0, 8: 2, 9: 0},\n",
       " {0: 0, 1: 1, 2: 1, 3: 0, 4: 2, 5: 0, 6: 1, 7: 1, 8: 2, 9: 0},\n",
       " {0: 1, 1: 1, 2: 1, 3: 1, 4: 0, 5: 1, 6: 0, 7: 1, 8: 1, 9: 1},\n",
       " {0: 1, 1: 1, 2: 1, 3: 0, 4: 1, 5: 1, 6: 0, 7: 1, 8: 2, 9: 0},\n",
       " {0: 1, 1: 1, 2: 1, 3: 0, 4: 1, 5: 1, 6: 0, 7: 1, 8: 1, 9: 1},\n",
       " {0: 0, 1: 2, 2: 1, 3: 1, 4: 0, 5: 1, 6: 0, 7: 1, 8: 2, 9: 0},\n",
       " {0: 0, 1: 1, 2: 1, 3: 0, 4: 1, 5: 1, 6: 1, 7: 1, 8: 2, 9: 0},\n",
       " {0: 0, 1: 2, 2: 0, 3: 1, 4: 0, 5: 2, 6: 0, 7: 1, 8: 2, 9: 0},\n",
       " {0: 0, 1: 2, 2: 0, 3: 2, 4: 0, 5: 2, 6: 0, 7: 1, 8: 1, 9: 0},\n",
       " {0: 1, 1: 1, 2: 1, 3: 0, 4: 1, 5: 0, 6: 1, 7: 1, 8: 1, 9: 1},\n",
       " {0: 0, 1: 2, 2: 1, 3: 0, 4: 1, 5: 1, 6: 0, 7: 1, 8: 1, 9: 1},\n",
       " {0: 0, 1: 1, 2: 1, 3: 0, 4: 2, 5: 0, 6: 2, 7: 0, 8: 2, 9: 0},\n",
       " {0: 0, 1: 2, 2: 0, 3: 2, 4: 0, 5: 1, 6: 0, 7: 1, 8: 1, 9: 1},\n",
       " {0: 0, 1: 2, 2: 1, 3: 1, 4: 0, 5: 2, 6: 0, 7: 1, 8: 1, 9: 0},\n",
       " {0: 0, 1: 2, 2: 1, 3: 0, 4: 1, 5: 0, 6: 2, 7: 0, 8: 2, 9: 0},\n",
       " {0: 1, 1: 1, 2: 1, 3: 1, 4: 0, 5: 1, 6: 0, 7: 1, 8: 2, 9: 0},\n",
       " {0: 0, 1: 2, 2: 0, 3: 2, 4: 0, 5: 1, 6: 0, 7: 1, 8: 2, 9: 0},\n",
       " {0: 0, 1: 2, 2: 1, 3: 0, 4: 1, 5: 0, 6: 1, 7: 1, 8: 1, 9: 1},\n",
       " {0: 0, 1: 2, 2: 1, 3: 0, 4: 1, 5: 0, 6: 1, 7: 1, 8: 2, 9: 0},\n",
       " {0: 1, 1: 1, 2: 1, 3: 0, 4: 1, 5: 0, 6: 1, 7: 1, 8: 2, 9: 0}]"
      ]
     },
     "execution_count": 40,
     "metadata": {},
     "output_type": "execute_result"
    }
   ],
   "source": [
    "iterative_method_functions.election_equilibrium(8,10)"
   ]
  },
  {
   "cell_type": "code",
   "execution_count": 41,
   "metadata": {},
   "outputs": [
    {
     "data": {
      "text/plain": [
       "[{0: 0, 1: 2, 2: 0, 3: 1, 4: 1, 5: 1, 6: 1, 7: 1, 8: 1, 9: 1},\n",
       " {0: 1, 1: 1, 2: 1, 3: 1, 4: 1, 5: 1, 6: 1, 7: 0, 8: 2, 9: 0},\n",
       " {0: 0, 1: 2, 2: 1, 3: 1, 4: 1, 5: 0, 6: 1, 7: 1, 8: 2, 9: 0},\n",
       " {0: 0, 1: 2, 2: 1, 3: 1, 4: 0, 5: 1, 6: 1, 7: 1, 8: 2, 9: 0},\n",
       " {0: 1, 1: 1, 2: 1, 3: 1, 4: 1, 5: 1, 6: 0, 7: 1, 8: 1, 9: 1},\n",
       " {0: 1, 1: 1, 2: 1, 3: 1, 4: 1, 5: 0, 6: 1, 7: 1, 8: 2, 9: 0},\n",
       " {0: 0, 1: 2, 2: 1, 3: 1, 4: 1, 5: 0, 6: 1, 7: 1, 8: 1, 9: 1},\n",
       " {0: 1, 1: 1, 2: 1, 3: 1, 4: 0, 5: 1, 6: 1, 7: 1, 8: 2, 9: 0},\n",
       " {0: 0, 1: 2, 2: 1, 3: 1, 4: 1, 5: 1, 6: 0, 7: 1, 8: 1, 9: 1},\n",
       " {0: 1, 1: 1, 2: 1, 3: 1, 4: 1, 5: 0, 6: 1, 7: 1, 8: 1, 9: 1},\n",
       " {0: 1, 1: 1, 2: 1, 3: 1, 4: 1, 5: 0, 6: 2, 7: 0, 8: 2, 9: 0},\n",
       " {0: 0, 1: 2, 2: 0, 3: 2, 4: 0, 5: 2, 6: 0, 7: 1, 8: 1, 9: 1},\n",
       " {0: 1, 1: 1, 2: 1, 3: 0, 4: 1, 5: 1, 6: 1, 7: 1, 8: 1, 9: 1},\n",
       " {0: 0, 1: 2, 2: 1, 3: 1, 4: 1, 5: 1, 6: 1, 7: 0, 8: 2, 9: 0},\n",
       " {0: 0, 1: 2, 2: 0, 3: 1, 4: 1, 5: 1, 6: 1, 7: 1, 8: 2, 9: 0},\n",
       " {0: 1, 1: 1, 2: 1, 3: 0, 4: 2, 5: 0, 6: 2, 7: 0, 8: 2, 9: 0},\n",
       " {0: 1, 1: 1, 2: 1, 3: 1, 4: 0, 5: 1, 6: 1, 7: 1, 8: 1, 9: 1},\n",
       " {0: 1, 1: 1, 2: 1, 3: 1, 4: 0, 5: 2, 6: 0, 7: 1, 8: 2, 9: 0},\n",
       " {0: 1, 1: 1, 2: 1, 3: 1, 4: 1, 5: 1, 6: 0, 7: 1, 8: 2, 9: 0},\n",
       " {0: 0, 1: 2, 2: 0, 3: 2, 4: 0, 5: 1, 6: 1, 7: 1, 8: 1, 9: 1},\n",
       " {0: 0, 1: 2, 2: 1, 3: 1, 4: 1, 5: 1, 6: 0, 7: 1, 8: 2, 9: 0},\n",
       " {0: 0, 1: 2, 2: 1, 3: 1, 4: 1, 5: 0, 6: 2, 7: 0, 8: 2, 9: 0},\n",
       " {0: 1, 1: 1, 2: 1, 3: 0, 4: 1, 5: 1, 6: 1, 7: 1, 8: 2, 9: 0},\n",
       " {0: 1, 1: 1, 2: 1, 3: 0, 4: 2, 5: 0, 6: 1, 7: 1, 8: 2, 9: 0},\n",
       " {0: 0, 1: 2, 2: 1, 3: 0, 4: 1, 5: 1, 6: 1, 7: 1, 8: 1, 9: 1},\n",
       " {0: 0, 1: 2, 2: 1, 3: 1, 4: 0, 5: 1, 6: 1, 7: 1, 8: 1, 9: 1},\n",
       " {0: 1, 1: 1, 2: 1, 3: 1, 4: 0, 5: 2, 6: 0, 7: 1, 8: 1, 9: 1},\n",
       " {0: 1, 1: 1, 2: 1, 3: 0, 4: 2, 5: 0, 6: 1, 7: 1, 8: 1, 9: 1},\n",
       " {0: 0, 1: 2, 2: 0, 3: 2, 4: 0, 5: 1, 6: 1, 7: 1, 8: 2, 9: 0},\n",
       " {0: 0, 1: 2, 2: 1, 3: 0, 4: 2, 5: 0, 6: 2, 7: 0, 8: 2, 9: 0},\n",
       " {0: 0, 1: 2, 2: 1, 3: 0, 4: 1, 5: 1, 6: 1, 7: 1, 8: 2, 9: 0},\n",
       " {0: 0, 1: 2, 2: 1, 3: 1, 4: 0, 5: 2, 6: 0, 7: 1, 8: 1, 9: 1},\n",
       " {0: 0, 1: 2, 2: 1, 3: 0, 4: 2, 5: 0, 6: 1, 7: 1, 8: 1, 9: 1},\n",
       " {0: 0, 1: 2, 2: 1, 3: 1, 4: 0, 5: 2, 6: 0, 7: 1, 8: 2, 9: 0},\n",
       " {0: 0, 1: 2, 2: 1, 3: 0, 4: 2, 5: 0, 6: 1, 7: 1, 8: 2, 9: 0}]"
      ]
     },
     "execution_count": 41,
     "metadata": {},
     "output_type": "execute_result"
    }
   ],
   "source": [
    "iterative_method_functions.election_equilibrium(9,10)"
   ]
  },
  {
   "cell_type": "code",
   "execution_count": 42,
   "metadata": {},
   "outputs": [
    {
     "data": {
      "text/plain": [
       "[{0: 1, 1: 1, 2: 1, 3: 1, 4: 1, 5: 1, 6: 1, 7: 1, 8: 1, 9: 1},\n",
       " {0: 1, 1: 1, 2: 1, 3: 1, 4: 1, 5: 1, 6: 1, 7: 1, 8: 2, 9: 0},\n",
       " {0: 0, 1: 2, 2: 1, 3: 1, 4: 1, 5: 1, 6: 1, 7: 1, 8: 1, 9: 1},\n",
       " {0: 0, 1: 2, 2: 1, 3: 1, 4: 1, 5: 1, 6: 1, 7: 1, 8: 2, 9: 0}]"
      ]
     },
     "execution_count": 42,
     "metadata": {},
     "output_type": "execute_result"
    }
   ],
   "source": [
    "iterative_method_functions.election_equilibrium(10,10)"
   ]
  },
  {
   "attachments": {},
   "cell_type": "markdown",
   "metadata": {},
   "source": [
    "### Normal"
   ]
  },
  {
   "cell_type": "code",
   "execution_count": 3,
   "metadata": {},
   "outputs": [
    {
     "data": {
      "text/plain": [
       "[{0: 0, 1: 0, 2: 0, 3: 0, 4: 1, 5: 1, 6: 0, 7: 0, 8: 0, 9: 0},\n",
       " {0: 0, 1: 0, 2: 0, 3: 0, 4: 2, 5: 0, 6: 0, 7: 0, 8: 0, 9: 0},\n",
       " {0: 0, 1: 0, 2: 0, 3: 0, 4: 0, 5: 2, 6: 0, 7: 0, 8: 0, 9: 0}]"
      ]
     },
     "execution_count": 3,
     "metadata": {},
     "output_type": "execute_result"
    }
   ],
   "source": [
    "iterative_method_functions.election_equilibrium(2,10,normal=True)"
   ]
  },
  {
   "cell_type": "code",
   "execution_count": 4,
   "metadata": {},
   "outputs": [
    {
     "name": "stdout",
     "output_type": "stream",
     "text": [
      "No equilibria found after 1000 simulations!\n"
     ]
    }
   ],
   "source": [
    "iterative_method_functions.election_equilibrium(3,10,normal=True)"
   ]
  },
  {
   "cell_type": "code",
   "execution_count": 5,
   "metadata": {},
   "outputs": [
    {
     "data": {
      "text/plain": [
       "[{0: 0, 1: 0, 2: 0, 3: 2, 4: 0, 5: 0, 6: 2, 7: 0, 8: 0, 9: 0}]"
      ]
     },
     "execution_count": 5,
     "metadata": {},
     "output_type": "execute_result"
    }
   ],
   "source": [
    "iterative_method_functions.election_equilibrium(4,10,normal=True)"
   ]
  },
  {
   "cell_type": "code",
   "execution_count": 6,
   "metadata": {},
   "outputs": [
    {
     "name": "stdout",
     "output_type": "stream",
     "text": [
      "No equilibria found after 1000 simulations!\n"
     ]
    }
   ],
   "source": [
    "iterative_method_functions.election_equilibrium(5,10,normal=True)"
   ]
  },
  {
   "cell_type": "code",
   "execution_count": 7,
   "metadata": {},
   "outputs": [
    {
     "data": {
      "text/plain": [
       "[{0: 0, 1: 0, 2: 1, 3: 1, 4: 1, 5: 1, 6: 1, 7: 1, 8: 0, 9: 0}]"
      ]
     },
     "execution_count": 7,
     "metadata": {},
     "output_type": "execute_result"
    }
   ],
   "source": [
    "iterative_method_functions.election_equilibrium(6,10,normal=True)"
   ]
  },
  {
   "cell_type": "code",
   "execution_count": 8,
   "metadata": {},
   "outputs": [
    {
     "data": {
      "text/plain": [
       "[{0: 0, 1: 0, 2: 2, 3: 1, 4: 1, 5: 1, 6: 1, 7: 1, 8: 0, 9: 0},\n",
       " {0: 0, 1: 0, 2: 1, 3: 1, 4: 1, 5: 1, 6: 1, 7: 2, 8: 0, 9: 0}]"
      ]
     },
     "execution_count": 8,
     "metadata": {},
     "output_type": "execute_result"
    }
   ],
   "source": [
    "iterative_method_functions.election_equilibrium(7,10,normal=True)"
   ]
  },
  {
   "cell_type": "code",
   "execution_count": 9,
   "metadata": {},
   "outputs": [
    {
     "data": {
      "text/plain": [
       "[{0: 0, 1: 0, 2: 2, 3: 1, 4: 1, 5: 1, 6: 1, 7: 2, 8: 0, 9: 0}]"
      ]
     },
     "execution_count": 9,
     "metadata": {},
     "output_type": "execute_result"
    }
   ],
   "source": [
    "iterative_method_functions.election_equilibrium(8,10,normal=True)"
   ]
  },
  {
   "cell_type": "code",
   "execution_count": 10,
   "metadata": {},
   "outputs": [
    {
     "name": "stdout",
     "output_type": "stream",
     "text": [
      "No equilibria found after 1000 simulations!\n"
     ]
    }
   ],
   "source": [
    "iterative_method_functions.election_equilibrium(9,10,normal=True)"
   ]
  },
  {
   "cell_type": "code",
   "execution_count": 11,
   "metadata": {},
   "outputs": [
    {
     "name": "stdout",
     "output_type": "stream",
     "text": [
      "No equilibria found after 1000 simulations!\n"
     ]
    }
   ],
   "source": [
    "iterative_method_functions.election_equilibrium(10,10,normal=True)"
   ]
  },
  {
   "cell_type": "code",
   "execution_count": null,
   "metadata": {},
   "outputs": [],
   "source": []
  }
 ],
 "metadata": {
  "kernelspec": {
   "display_name": "base",
   "language": "python",
   "name": "python3"
  },
  "language_info": {
   "codemirror_mode": {
    "name": "ipython",
    "version": 3
   },
   "file_extension": ".py",
   "mimetype": "text/x-python",
   "name": "python",
   "nbconvert_exporter": "python",
   "pygments_lexer": "ipython3",
   "version": "3.8.11"
  }
 },
 "nbformat": 4,
 "nbformat_minor": 2
}
