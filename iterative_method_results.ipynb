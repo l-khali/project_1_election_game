{
 "cells": [
  {
   "cell_type": "code",
   "execution_count": 49,
   "metadata": {},
   "outputs": [],
   "source": [
    "import iterative_method_functions"
   ]
  },
  {
   "attachments": {},
   "cell_type": "markdown",
   "metadata": {},
   "source": [
    "### Uniform"
   ]
  },
  {
   "cell_type": "code",
   "execution_count": 33,
   "metadata": {},
   "outputs": [
    {
     "data": {
      "text/plain": [
       "[{0: 0, 1: 0, 2: 0, 3: 0, 4: 0, 5: 2, 6: 0, 7: 0, 8: 0, 9: 0},\n",
       " {0: 0, 1: 0, 2: 0, 3: 0, 4: 1, 5: 1, 6: 0, 7: 0, 8: 0, 9: 0},\n",
       " {0: 0, 1: 0, 2: 0, 3: 0, 4: 2, 5: 0, 6: 0, 7: 0, 8: 0, 9: 0}]"
      ]
     },
     "execution_count": 33,
     "metadata": {},
     "output_type": "execute_result"
    }
   ],
   "source": [
    "iterative_method_functions.election_equilibrium(2,10)"
   ]
  },
  {
   "cell_type": "code",
   "execution_count": 3,
   "metadata": {},
   "outputs": [
    {
     "name": "stdout",
     "output_type": "stream",
     "text": [
      "No equilibria found after 1000 simulations!\n"
     ]
    }
   ],
   "source": [
    "iterative_method_functions.election_equilibrium(3,10)"
   ]
  },
  {
   "cell_type": "code",
   "execution_count": 36,
   "metadata": {},
   "outputs": [
    {
     "data": {
      "text/plain": [
       "[{0: 0, 1: 0, 2: 1, 3: 1, 4: 0, 5: 0, 6: 0, 7: 2, 8: 0, 9: 0},\n",
       " {0: 0, 1: 0, 2: 2, 3: 0, 4: 0, 5: 0, 6: 1, 7: 1, 8: 0, 9: 0},\n",
       " {0: 0, 1: 0, 2: 2, 3: 0, 4: 0, 5: 0, 6: 0, 7: 2, 8: 0, 9: 0}]"
      ]
     },
     "execution_count": 36,
     "metadata": {},
     "output_type": "execute_result"
    }
   ],
   "source": [
    "iterative_method_functions.election_equilibrium(4,10)"
   ]
  },
  {
   "cell_type": "code",
   "execution_count": 37,
   "metadata": {},
   "outputs": [
    {
     "data": {
      "text/plain": [
       "[{0: 0, 1: 1, 2: 1, 3: 0, 4: 0, 5: 1, 6: 0, 7: 1, 8: 1, 9: 0},\n",
       " {0: 0, 1: 1, 2: 1, 3: 0, 4: 1, 5: 0, 6: 0, 7: 1, 8: 1, 9: 0},\n",
       " {0: 0, 1: 1, 2: 1, 3: 0, 4: 0, 5: 1, 6: 0, 7: 0, 8: 2, 9: 0},\n",
       " {0: 0, 1: 2, 2: 0, 3: 0, 4: 1, 5: 0, 6: 0, 7: 1, 8: 1, 9: 0}]"
      ]
     },
     "execution_count": 37,
     "metadata": {},
     "output_type": "execute_result"
    }
   ],
   "source": [
    "iterative_method_functions.election_equilibrium(5,10)"
   ]
  },
  {
   "cell_type": "code",
   "execution_count": 38,
   "metadata": {},
   "outputs": [
    {
     "data": {
      "text/plain": [
       "[{0: 0, 1: 2, 2: 0, 3: 1, 4: 0, 5: 1, 6: 0, 7: 1, 8: 1, 9: 0},\n",
       " {0: 0, 1: 1, 2: 1, 3: 0, 4: 1, 5: 1, 6: 0, 7: 1, 8: 1, 9: 0},\n",
       " {0: 0, 1: 1, 2: 1, 3: 0, 4: 1, 5: 0, 6: 1, 7: 0, 8: 2, 9: 0},\n",
       " {0: 0, 1: 1, 2: 1, 3: 0, 4: 1, 5: 1, 6: 0, 7: 0, 8: 2, 9: 0},\n",
       " {0: 0, 1: 2, 2: 0, 3: 0, 4: 1, 5: 1, 6: 0, 7: 1, 8: 1, 9: 0},\n",
       " {0: 0, 1: 2, 2: 0, 3: 0, 4: 2, 5: 0, 6: 0, 7: 1, 8: 1, 9: 0},\n",
       " {0: 0, 1: 1, 2: 1, 3: 0, 4: 0, 5: 2, 6: 0, 7: 0, 8: 2, 9: 0},\n",
       " {0: 0, 1: 2, 2: 0, 3: 0, 4: 1, 5: 1, 6: 0, 7: 0, 8: 2, 9: 0}]"
      ]
     },
     "execution_count": 38,
     "metadata": {},
     "output_type": "execute_result"
    }
   ],
   "source": [
    "iterative_method_functions.election_equilibrium(6,10)"
   ]
  },
  {
   "cell_type": "code",
   "execution_count": 39,
   "metadata": {},
   "outputs": [
    {
     "data": {
      "text/plain": [
       "[{0: 0, 1: 1, 2: 1, 3: 0, 4: 1, 5: 0, 6: 1, 7: 1, 8: 1, 9: 1},\n",
       " {0: 0, 1: 1, 2: 1, 3: 0, 4: 1, 5: 1, 6: 1, 7: 0, 8: 2, 9: 0},\n",
       " {0: 0, 1: 2, 2: 0, 3: 1, 4: 1, 5: 0, 6: 1, 7: 0, 8: 2, 9: 0},\n",
       " {0: 0, 1: 2, 2: 0, 3: 1, 4: 1, 5: 1, 6: 0, 7: 1, 8: 1, 9: 0},\n",
       " {0: 0, 1: 2, 2: 0, 3: 1, 4: 0, 5: 1, 6: 1, 7: 0, 8: 2, 9: 0},\n",
       " {0: 1, 1: 1, 2: 1, 3: 0, 4: 1, 5: 1, 6: 0, 7: 1, 8: 1, 9: 0},\n",
       " {0: 0, 1: 2, 2: 0, 3: 1, 4: 0, 5: 1, 6: 0, 7: 1, 8: 1, 9: 1},\n",
       " {0: 0, 1: 2, 2: 0, 3: 2, 4: 0, 5: 1, 6: 0, 7: 1, 8: 1, 9: 0},\n",
       " {0: 0, 1: 1, 2: 1, 3: 0, 4: 2, 5: 0, 6: 1, 7: 0, 8: 2, 9: 0},\n",
       " {0: 0, 1: 2, 2: 1, 3: 0, 4: 1, 5: 0, 6: 1, 7: 0, 8: 2, 9: 0},\n",
       " {0: 0, 1: 1, 2: 1, 3: 0, 4: 1, 5: 1, 6: 0, 7: 1, 8: 1, 9: 1},\n",
       " {0: 0, 1: 2, 2: 0, 3: 1, 4: 0, 5: 2, 6: 0, 7: 1, 8: 1, 9: 0},\n",
       " {0: 0, 1: 2, 2: 0, 3: 1, 4: 0, 5: 1, 6: 0, 7: 1, 8: 2, 9: 0},\n",
       " {0: 0, 1: 1, 2: 1, 3: 0, 4: 1, 5: 0, 6: 1, 7: 1, 8: 2, 9: 0},\n",
       " {0: 1, 1: 1, 2: 1, 3: 0, 4: 1, 5: 0, 6: 1, 7: 0, 8: 2, 9: 0},\n",
       " {0: 0, 1: 2, 2: 1, 3: 0, 4: 1, 5: 1, 6: 0, 7: 1, 8: 1, 9: 0},\n",
       " {0: 0, 1: 1, 2: 1, 3: 0, 4: 1, 5: 0, 6: 2, 7: 0, 8: 2, 9: 0},\n",
       " {0: 1, 1: 1, 2: 1, 3: 1, 4: 0, 5: 1, 6: 0, 7: 1, 8: 1, 9: 0},\n",
       " {0: 0, 1: 1, 2: 1, 3: 0, 4: 1, 5: 1, 6: 0, 7: 1, 8: 2, 9: 0},\n",
       " {0: 0, 1: 2, 2: 1, 3: 1, 4: 0, 5: 1, 6: 0, 7: 1, 8: 1, 9: 0}]"
      ]
     },
     "execution_count": 39,
     "metadata": {},
     "output_type": "execute_result"
    }
   ],
   "source": [
    "iterative_method_functions.election_equilibrium(7,10)"
   ]
  },
  {
   "cell_type": "code",
   "execution_count": 40,
   "metadata": {},
   "outputs": [
    {
     "data": {
      "text/plain": [
       "[{0: 0, 1: 2, 2: 1, 3: 0, 4: 1, 5: 1, 6: 1, 7: 0, 8: 2, 9: 0},\n",
       " {0: 0, 1: 2, 2: 0, 3: 1, 4: 1, 5: 0, 6: 1, 7: 1, 8: 2, 9: 0},\n",
       " {0: 1, 1: 1, 2: 1, 3: 0, 4: 1, 5: 1, 6: 1, 7: 0, 8: 2, 9: 0},\n",
       " {0: 0, 1: 2, 2: 1, 3: 1, 4: 0, 5: 1, 6: 1, 7: 0, 8: 2, 9: 0},\n",
       " {0: 0, 1: 2, 2: 0, 3: 1, 4: 0, 5: 1, 6: 1, 7: 1, 8: 1, 9: 1},\n",
       " {0: 0, 1: 1, 2: 1, 3: 0, 4: 1, 5: 1, 6: 1, 7: 1, 8: 1, 9: 1},\n",
       " {0: 1, 1: 1, 2: 1, 3: 1, 4: 1, 5: 1, 6: 0, 7: 1, 8: 1, 9: 0},\n",
       " {0: 0, 1: 2, 2: 0, 3: 1, 4: 1, 5: 1, 6: 0, 7: 1, 8: 1, 9: 1},\n",
       " {0: 1, 1: 1, 2: 1, 3: 1, 4: 0, 5: 1, 6: 1, 7: 0, 8: 2, 9: 0},\n",
       " {0: 0, 1: 2, 2: 0, 3: 1, 4: 1, 5: 1, 6: 1, 7: 0, 8: 2, 9: 0},\n",
       " {0: 1, 1: 1, 2: 1, 3: 0, 4: 1, 5: 0, 6: 2, 7: 0, 8: 2, 9: 0},\n",
       " {0: 0, 1: 2, 2: 0, 3: 2, 4: 0, 5: 1, 6: 1, 7: 0, 8: 2, 9: 0},\n",
       " {0: 0, 1: 2, 2: 1, 3: 1, 4: 1, 5: 0, 6: 1, 7: 0, 8: 2, 9: 0},\n",
       " {0: 0, 1: 2, 2: 0, 3: 1, 4: 1, 5: 0, 6: 2, 7: 0, 8: 2, 9: 0},\n",
       " {0: 0, 1: 2, 2: 0, 3: 1, 4: 0, 5: 1, 6: 1, 7: 1, 8: 2, 9: 0},\n",
       " {0: 0, 1: 2, 2: 0, 3: 1, 4: 1, 5: 0, 6: 1, 7: 1, 8: 1, 9: 1},\n",
       " {0: 1, 1: 1, 2: 1, 3: 1, 4: 1, 5: 0, 6: 1, 7: 0, 8: 2, 9: 0},\n",
       " {0: 1, 1: 1, 2: 1, 3: 1, 4: 0, 5: 2, 6: 0, 7: 1, 8: 1, 9: 0},\n",
       " {0: 0, 1: 2, 2: 1, 3: 1, 4: 1, 5: 1, 6: 0, 7: 1, 8: 1, 9: 0},\n",
       " {0: 0, 1: 2, 2: 0, 3: 1, 4: 1, 5: 1, 6: 0, 7: 1, 8: 2, 9: 0},\n",
       " {0: 1, 1: 1, 2: 1, 3: 0, 4: 2, 5: 0, 6: 1, 7: 0, 8: 2, 9: 0},\n",
       " {0: 0, 1: 2, 2: 0, 3: 1, 4: 0, 5: 2, 6: 0, 7: 1, 8: 1, 9: 1},\n",
       " {0: 0, 1: 2, 2: 1, 3: 0, 4: 1, 5: 1, 6: 0, 7: 1, 8: 2, 9: 0},\n",
       " {0: 0, 1: 1, 2: 1, 3: 0, 4: 2, 5: 0, 6: 1, 7: 1, 8: 1, 9: 1},\n",
       " {0: 0, 1: 2, 2: 1, 3: 1, 4: 0, 5: 1, 6: 0, 7: 1, 8: 1, 9: 1},\n",
       " {0: 0, 1: 2, 2: 1, 3: 0, 4: 2, 5: 0, 6: 1, 7: 0, 8: 2, 9: 0},\n",
       " {0: 0, 1: 1, 2: 1, 3: 0, 4: 2, 5: 0, 6: 1, 7: 1, 8: 2, 9: 0},\n",
       " {0: 1, 1: 1, 2: 1, 3: 1, 4: 0, 5: 1, 6: 0, 7: 1, 8: 1, 9: 1},\n",
       " {0: 1, 1: 1, 2: 1, 3: 0, 4: 1, 5: 1, 6: 0, 7: 1, 8: 2, 9: 0},\n",
       " {0: 1, 1: 1, 2: 1, 3: 0, 4: 1, 5: 1, 6: 0, 7: 1, 8: 1, 9: 1},\n",
       " {0: 0, 1: 2, 2: 1, 3: 1, 4: 0, 5: 1, 6: 0, 7: 1, 8: 2, 9: 0},\n",
       " {0: 0, 1: 1, 2: 1, 3: 0, 4: 1, 5: 1, 6: 1, 7: 1, 8: 2, 9: 0},\n",
       " {0: 0, 1: 2, 2: 0, 3: 1, 4: 0, 5: 2, 6: 0, 7: 1, 8: 2, 9: 0},\n",
       " {0: 0, 1: 2, 2: 0, 3: 2, 4: 0, 5: 2, 6: 0, 7: 1, 8: 1, 9: 0},\n",
       " {0: 1, 1: 1, 2: 1, 3: 0, 4: 1, 5: 0, 6: 1, 7: 1, 8: 1, 9: 1},\n",
       " {0: 0, 1: 2, 2: 1, 3: 0, 4: 1, 5: 1, 6: 0, 7: 1, 8: 1, 9: 1},\n",
       " {0: 0, 1: 1, 2: 1, 3: 0, 4: 2, 5: 0, 6: 2, 7: 0, 8: 2, 9: 0},\n",
       " {0: 0, 1: 2, 2: 0, 3: 2, 4: 0, 5: 1, 6: 0, 7: 1, 8: 1, 9: 1},\n",
       " {0: 0, 1: 2, 2: 1, 3: 1, 4: 0, 5: 2, 6: 0, 7: 1, 8: 1, 9: 0},\n",
       " {0: 0, 1: 2, 2: 1, 3: 0, 4: 1, 5: 0, 6: 2, 7: 0, 8: 2, 9: 0},\n",
       " {0: 1, 1: 1, 2: 1, 3: 1, 4: 0, 5: 1, 6: 0, 7: 1, 8: 2, 9: 0},\n",
       " {0: 0, 1: 2, 2: 0, 3: 2, 4: 0, 5: 1, 6: 0, 7: 1, 8: 2, 9: 0},\n",
       " {0: 0, 1: 2, 2: 1, 3: 0, 4: 1, 5: 0, 6: 1, 7: 1, 8: 1, 9: 1},\n",
       " {0: 0, 1: 2, 2: 1, 3: 0, 4: 1, 5: 0, 6: 1, 7: 1, 8: 2, 9: 0},\n",
       " {0: 1, 1: 1, 2: 1, 3: 0, 4: 1, 5: 0, 6: 1, 7: 1, 8: 2, 9: 0}]"
      ]
     },
     "execution_count": 40,
     "metadata": {},
     "output_type": "execute_result"
    }
   ],
   "source": [
    "iterative_method_functions.election_equilibrium(8,10)"
   ]
  },
  {
   "cell_type": "code",
   "execution_count": 41,
   "metadata": {},
   "outputs": [
    {
     "data": {
      "text/plain": [
       "[{0: 0, 1: 2, 2: 0, 3: 1, 4: 1, 5: 1, 6: 1, 7: 1, 8: 1, 9: 1},\n",
       " {0: 1, 1: 1, 2: 1, 3: 1, 4: 1, 5: 1, 6: 1, 7: 0, 8: 2, 9: 0},\n",
       " {0: 0, 1: 2, 2: 1, 3: 1, 4: 1, 5: 0, 6: 1, 7: 1, 8: 2, 9: 0},\n",
       " {0: 0, 1: 2, 2: 1, 3: 1, 4: 0, 5: 1, 6: 1, 7: 1, 8: 2, 9: 0},\n",
       " {0: 1, 1: 1, 2: 1, 3: 1, 4: 1, 5: 1, 6: 0, 7: 1, 8: 1, 9: 1},\n",
       " {0: 1, 1: 1, 2: 1, 3: 1, 4: 1, 5: 0, 6: 1, 7: 1, 8: 2, 9: 0},\n",
       " {0: 0, 1: 2, 2: 1, 3: 1, 4: 1, 5: 0, 6: 1, 7: 1, 8: 1, 9: 1},\n",
       " {0: 1, 1: 1, 2: 1, 3: 1, 4: 0, 5: 1, 6: 1, 7: 1, 8: 2, 9: 0},\n",
       " {0: 0, 1: 2, 2: 1, 3: 1, 4: 1, 5: 1, 6: 0, 7: 1, 8: 1, 9: 1},\n",
       " {0: 1, 1: 1, 2: 1, 3: 1, 4: 1, 5: 0, 6: 1, 7: 1, 8: 1, 9: 1},\n",
       " {0: 1, 1: 1, 2: 1, 3: 1, 4: 1, 5: 0, 6: 2, 7: 0, 8: 2, 9: 0},\n",
       " {0: 0, 1: 2, 2: 0, 3: 2, 4: 0, 5: 2, 6: 0, 7: 1, 8: 1, 9: 1},\n",
       " {0: 1, 1: 1, 2: 1, 3: 0, 4: 1, 5: 1, 6: 1, 7: 1, 8: 1, 9: 1},\n",
       " {0: 0, 1: 2, 2: 1, 3: 1, 4: 1, 5: 1, 6: 1, 7: 0, 8: 2, 9: 0},\n",
       " {0: 0, 1: 2, 2: 0, 3: 1, 4: 1, 5: 1, 6: 1, 7: 1, 8: 2, 9: 0},\n",
       " {0: 1, 1: 1, 2: 1, 3: 0, 4: 2, 5: 0, 6: 2, 7: 0, 8: 2, 9: 0},\n",
       " {0: 1, 1: 1, 2: 1, 3: 1, 4: 0, 5: 1, 6: 1, 7: 1, 8: 1, 9: 1},\n",
       " {0: 1, 1: 1, 2: 1, 3: 1, 4: 0, 5: 2, 6: 0, 7: 1, 8: 2, 9: 0},\n",
       " {0: 1, 1: 1, 2: 1, 3: 1, 4: 1, 5: 1, 6: 0, 7: 1, 8: 2, 9: 0},\n",
       " {0: 0, 1: 2, 2: 0, 3: 2, 4: 0, 5: 1, 6: 1, 7: 1, 8: 1, 9: 1},\n",
       " {0: 0, 1: 2, 2: 1, 3: 1, 4: 1, 5: 1, 6: 0, 7: 1, 8: 2, 9: 0},\n",
       " {0: 0, 1: 2, 2: 1, 3: 1, 4: 1, 5: 0, 6: 2, 7: 0, 8: 2, 9: 0},\n",
       " {0: 1, 1: 1, 2: 1, 3: 0, 4: 1, 5: 1, 6: 1, 7: 1, 8: 2, 9: 0},\n",
       " {0: 1, 1: 1, 2: 1, 3: 0, 4: 2, 5: 0, 6: 1, 7: 1, 8: 2, 9: 0},\n",
       " {0: 0, 1: 2, 2: 1, 3: 0, 4: 1, 5: 1, 6: 1, 7: 1, 8: 1, 9: 1},\n",
       " {0: 0, 1: 2, 2: 1, 3: 1, 4: 0, 5: 1, 6: 1, 7: 1, 8: 1, 9: 1},\n",
       " {0: 1, 1: 1, 2: 1, 3: 1, 4: 0, 5: 2, 6: 0, 7: 1, 8: 1, 9: 1},\n",
       " {0: 1, 1: 1, 2: 1, 3: 0, 4: 2, 5: 0, 6: 1, 7: 1, 8: 1, 9: 1},\n",
       " {0: 0, 1: 2, 2: 0, 3: 2, 4: 0, 5: 1, 6: 1, 7: 1, 8: 2, 9: 0},\n",
       " {0: 0, 1: 2, 2: 1, 3: 0, 4: 2, 5: 0, 6: 2, 7: 0, 8: 2, 9: 0},\n",
       " {0: 0, 1: 2, 2: 1, 3: 0, 4: 1, 5: 1, 6: 1, 7: 1, 8: 2, 9: 0},\n",
       " {0: 0, 1: 2, 2: 1, 3: 1, 4: 0, 5: 2, 6: 0, 7: 1, 8: 1, 9: 1},\n",
       " {0: 0, 1: 2, 2: 1, 3: 0, 4: 2, 5: 0, 6: 1, 7: 1, 8: 1, 9: 1},\n",
       " {0: 0, 1: 2, 2: 1, 3: 1, 4: 0, 5: 2, 6: 0, 7: 1, 8: 2, 9: 0},\n",
       " {0: 0, 1: 2, 2: 1, 3: 0, 4: 2, 5: 0, 6: 1, 7: 1, 8: 2, 9: 0}]"
      ]
     },
     "execution_count": 41,
     "metadata": {},
     "output_type": "execute_result"
    }
   ],
   "source": [
    "iterative_method_functions.election_equilibrium(9,10)"
   ]
  },
  {
   "cell_type": "code",
   "execution_count": 42,
   "metadata": {},
   "outputs": [
    {
     "data": {
      "text/plain": [
       "[{0: 1, 1: 1, 2: 1, 3: 1, 4: 1, 5: 1, 6: 1, 7: 1, 8: 1, 9: 1},\n",
       " {0: 1, 1: 1, 2: 1, 3: 1, 4: 1, 5: 1, 6: 1, 7: 1, 8: 2, 9: 0},\n",
       " {0: 0, 1: 2, 2: 1, 3: 1, 4: 1, 5: 1, 6: 1, 7: 1, 8: 1, 9: 1},\n",
       " {0: 0, 1: 2, 2: 1, 3: 1, 4: 1, 5: 1, 6: 1, 7: 1, 8: 2, 9: 0}]"
      ]
     },
     "execution_count": 42,
     "metadata": {},
     "output_type": "execute_result"
    }
   ],
   "source": [
    "iterative_method_functions.election_equilibrium(10,10)"
   ]
  },
  {
   "attachments": {},
   "cell_type": "markdown",
   "metadata": {},
   "source": [
    "### Normal"
   ]
  },
  {
   "cell_type": "code",
   "execution_count": 50,
   "metadata": {},
   "outputs": [
    {
     "data": {
      "text/plain": [
       "[{0: 0, 1: 0, 2: 0, 3: 0, 4: 0, 5: 0, 6: 0, 7: 2, 8: 0, 9: 0},\n",
       " {0: 0, 1: 0, 2: 0, 3: 0, 4: 0, 5: 0, 6: 0, 7: 0, 8: 2, 9: 0}]"
      ]
     },
     "execution_count": 50,
     "metadata": {},
     "output_type": "execute_result"
    }
   ],
   "source": [
    "iterative_method_functions.election_equilibrium(2,10,normal=True)"
   ]
  },
  {
   "cell_type": "code",
   "execution_count": 51,
   "metadata": {},
   "outputs": [
    {
     "name": "stdout",
     "output_type": "stream",
     "text": [
      "No equilibria found after 1000 simulations!\n"
     ]
    }
   ],
   "source": [
    "iterative_method_functions.election_equilibrium(3,10,normal=True)"
   ]
  },
  {
   "cell_type": "code",
   "execution_count": 52,
   "metadata": {},
   "outputs": [
    {
     "name": "stdout",
     "output_type": "stream",
     "text": [
      "No equilibria found after 1000 simulations!\n"
     ]
    }
   ],
   "source": [
    "iterative_method_functions.election_equilibrium(4,10,normal=True)"
   ]
  },
  {
   "cell_type": "code",
   "execution_count": 53,
   "metadata": {},
   "outputs": [
    {
     "data": {
      "text/plain": [
       "[{0: 0, 1: 0, 2: 0, 3: 0, 4: 2, 5: 0, 6: 0, 7: 0, 8: 3, 9: 0}]"
      ]
     },
     "execution_count": 53,
     "metadata": {},
     "output_type": "execute_result"
    }
   ],
   "source": [
    "iterative_method_functions.election_equilibrium(5,10,normal=True)"
   ]
  },
  {
   "cell_type": "code",
   "execution_count": 54,
   "metadata": {},
   "outputs": [
    {
     "ename": "KeyboardInterrupt",
     "evalue": "",
     "output_type": "error",
     "traceback": [
      "\u001b[0;31m---------------------------------------------------------------------------\u001b[0m",
      "\u001b[0;31mKeyboardInterrupt\u001b[0m                         Traceback (most recent call last)",
      "\u001b[0;32m/var/folders/rg/6x4tlzs16c76vmthv_nxc63r0000gn/T/ipykernel_85913/726712863.py\u001b[0m in \u001b[0;36m<module>\u001b[0;34m\u001b[0m\n\u001b[0;32m----> 1\u001b[0;31m \u001b[0miterative_method_functions\u001b[0m\u001b[0;34m.\u001b[0m\u001b[0melection_equilibrium\u001b[0m\u001b[0;34m(\u001b[0m\u001b[0;36m6\u001b[0m\u001b[0;34m,\u001b[0m\u001b[0;36m10\u001b[0m\u001b[0;34m,\u001b[0m\u001b[0mnormal\u001b[0m\u001b[0;34m=\u001b[0m\u001b[0;32mTrue\u001b[0m\u001b[0;34m)\u001b[0m\u001b[0;34m\u001b[0m\u001b[0;34m\u001b[0m\u001b[0m\n\u001b[0m",
      "\u001b[0;32m~/Documents/year_4/game_theory/project_1_election_game/iterative_method_functions.py\u001b[0m in \u001b[0;36melection_equilibrium\u001b[0;34m(N, M, nsim, points_per_position, normal)\u001b[0m\n\u001b[1;32m    114\u001b[0m                 \u001b[0mplayer_count_temp\u001b[0m \u001b[0;34m=\u001b[0m \u001b[0mplayer_count\u001b[0m\u001b[0;34m.\u001b[0m\u001b[0mcopy\u001b[0m\u001b[0;34m(\u001b[0m\u001b[0;34m)\u001b[0m\u001b[0;34m\u001b[0m\u001b[0;34m\u001b[0m\u001b[0m\n\u001b[1;32m    115\u001b[0m                 \u001b[0;32mfor\u001b[0m \u001b[0mposition\u001b[0m \u001b[0;32min\u001b[0m \u001b[0mrange\u001b[0m\u001b[0;34m(\u001b[0m\u001b[0mM\u001b[0m\u001b[0;34m)\u001b[0m\u001b[0;34m:\u001b[0m\u001b[0;34m\u001b[0m\u001b[0;34m\u001b[0m\u001b[0m\n\u001b[0;32m--> 116\u001b[0;31m                     \u001b[0mplayer_count_temp\u001b[0m\u001b[0;34m[\u001b[0m\u001b[0mplayer_positions_temp\u001b[0m\u001b[0;34m[\u001b[0m\u001b[0mplayer\u001b[0m\u001b[0;34m]\u001b[0m\u001b[0;34m]\u001b[0m \u001b[0;34m-=\u001b[0m \u001b[0;36m1\u001b[0m\u001b[0;34m\u001b[0m\u001b[0;34m\u001b[0m\u001b[0m\n\u001b[0m\u001b[1;32m    117\u001b[0m                     \u001b[0mplayer_count_temp\u001b[0m\u001b[0;34m[\u001b[0m\u001b[0mposition\u001b[0m\u001b[0;34m]\u001b[0m \u001b[0;34m+=\u001b[0m \u001b[0;36m1\u001b[0m\u001b[0;34m\u001b[0m\u001b[0;34m\u001b[0m\u001b[0m\n\u001b[1;32m    118\u001b[0m                     \u001b[0mplayer_positions_temp\u001b[0m\u001b[0;34m[\u001b[0m\u001b[0mplayer\u001b[0m\u001b[0;34m]\u001b[0m \u001b[0;34m=\u001b[0m \u001b[0mposition\u001b[0m\u001b[0;34m\u001b[0m\u001b[0;34m\u001b[0m\u001b[0m\n",
      "\u001b[0;32m~/Documents/year_4/game_theory/project_1_election_game/iterative_method_functions.py\u001b[0m in \u001b[0;36mpayoff_calculation\u001b[0;34m(player, player_positions, player_count, M, points_per_position, points_per_position_list)\u001b[0m\n\u001b[1;32m     33\u001b[0m         \u001b[0;32melse\u001b[0m\u001b[0;34m:\u001b[0m\u001b[0;34m\u001b[0m\u001b[0;34m\u001b[0m\u001b[0m\n\u001b[1;32m     34\u001b[0m             \u001b[0mright_neighbour\u001b[0m \u001b[0;34m+=\u001b[0m \u001b[0;36m1\u001b[0m\u001b[0;34m\u001b[0m\u001b[0;34m\u001b[0m\u001b[0m\n\u001b[0;32m---> 35\u001b[0;31m \u001b[0;34m\u001b[0m\u001b[0m\n\u001b[0m\u001b[1;32m     36\u001b[0m     \u001b[0;31m# calculating score according to were neighbour is on each side\u001b[0m\u001b[0;34m\u001b[0m\u001b[0;34m\u001b[0m\u001b[0;34m\u001b[0m\u001b[0m\n\u001b[1;32m     37\u001b[0m     \u001b[0;32mif\u001b[0m \u001b[0mleft_neighbour\u001b[0m \u001b[0;34m==\u001b[0m \u001b[0;34m-\u001b[0m\u001b[0;36m1\u001b[0m\u001b[0;34m:\u001b[0m\u001b[0;34m\u001b[0m\u001b[0;34m\u001b[0m\u001b[0m\n",
      "\u001b[0;31mKeyboardInterrupt\u001b[0m: "
     ]
    }
   ],
   "source": [
    "iterative_method_functions.election_equilibrium(6,10,normal=True)"
   ]
  },
  {
   "cell_type": "code",
   "execution_count": null,
   "metadata": {},
   "outputs": [
    {
     "ename": "KeyboardInterrupt",
     "evalue": "",
     "output_type": "error",
     "traceback": [
      "\u001b[0;31m---------------------------------------------------------------------------\u001b[0m",
      "\u001b[0;31mKeyboardInterrupt\u001b[0m                         Traceback (most recent call last)",
      "\u001b[0;32m/var/folders/rg/6x4tlzs16c76vmthv_nxc63r0000gn/T/ipykernel_85913/4003742758.py\u001b[0m in \u001b[0;36m<module>\u001b[0;34m\u001b[0m\n\u001b[0;32m----> 1\u001b[0;31m \u001b[0miterative_method_functions\u001b[0m\u001b[0;34m.\u001b[0m\u001b[0melection_equilibrium\u001b[0m\u001b[0;34m(\u001b[0m\u001b[0;36m7\u001b[0m\u001b[0;34m,\u001b[0m\u001b[0;36m10\u001b[0m\u001b[0;34m,\u001b[0m\u001b[0mnormal\u001b[0m\u001b[0;34m=\u001b[0m\u001b[0;32mTrue\u001b[0m\u001b[0;34m)\u001b[0m\u001b[0;34m\u001b[0m\u001b[0;34m\u001b[0m\u001b[0m\n\u001b[0m",
      "\u001b[0;32m~/Documents/year_4/game_theory/project_1_election_game/iterative_method_functions.py\u001b[0m in \u001b[0;36melection_equilibrium\u001b[0;34m(N, M, nsim, points_per_position, normal)\u001b[0m\n\u001b[1;32m    114\u001b[0m                 \u001b[0mplayer_count_temp\u001b[0m \u001b[0;34m=\u001b[0m \u001b[0mplayer_count\u001b[0m\u001b[0;34m.\u001b[0m\u001b[0mcopy\u001b[0m\u001b[0;34m(\u001b[0m\u001b[0;34m)\u001b[0m\u001b[0;34m\u001b[0m\u001b[0;34m\u001b[0m\u001b[0m\n\u001b[1;32m    115\u001b[0m                 \u001b[0;32mfor\u001b[0m \u001b[0mposition\u001b[0m \u001b[0;32min\u001b[0m \u001b[0mrange\u001b[0m\u001b[0;34m(\u001b[0m\u001b[0mM\u001b[0m\u001b[0;34m)\u001b[0m\u001b[0;34m:\u001b[0m\u001b[0;34m\u001b[0m\u001b[0;34m\u001b[0m\u001b[0m\n\u001b[0;32m--> 116\u001b[0;31m                     \u001b[0mplayer_count_temp\u001b[0m\u001b[0;34m[\u001b[0m\u001b[0mplayer_positions_temp\u001b[0m\u001b[0;34m[\u001b[0m\u001b[0mplayer\u001b[0m\u001b[0;34m]\u001b[0m\u001b[0;34m]\u001b[0m \u001b[0;34m-=\u001b[0m \u001b[0;36m1\u001b[0m\u001b[0;34m\u001b[0m\u001b[0;34m\u001b[0m\u001b[0m\n\u001b[0m\u001b[1;32m    117\u001b[0m                     \u001b[0mplayer_count_temp\u001b[0m\u001b[0;34m[\u001b[0m\u001b[0mposition\u001b[0m\u001b[0;34m]\u001b[0m \u001b[0;34m+=\u001b[0m \u001b[0;36m1\u001b[0m\u001b[0;34m\u001b[0m\u001b[0;34m\u001b[0m\u001b[0m\n\u001b[1;32m    118\u001b[0m                     \u001b[0mplayer_positions_temp\u001b[0m\u001b[0;34m[\u001b[0m\u001b[0mplayer\u001b[0m\u001b[0;34m]\u001b[0m \u001b[0;34m=\u001b[0m \u001b[0mposition\u001b[0m\u001b[0;34m\u001b[0m\u001b[0;34m\u001b[0m\u001b[0m\n",
      "\u001b[0;32m~/Documents/year_4/game_theory/project_1_election_game/iterative_method_functions.py\u001b[0m in \u001b[0;36mpayoff_calculation\u001b[0;34m(player, player_positions, player_count, M, points_per_position, points_per_position_list)\u001b[0m\n\u001b[1;32m     57\u001b[0m             \u001b[0msplit\u001b[0m \u001b[0;34m=\u001b[0m \u001b[0mplayer_positions\u001b[0m\u001b[0;34m[\u001b[0m\u001b[0mplayer\u001b[0m\u001b[0;34m]\u001b[0m \u001b[0;34m+\u001b[0m \u001b[0mint\u001b[0m\u001b[0;34m(\u001b[0m\u001b[0;34m(\u001b[0m\u001b[0mright_neighbour\u001b[0m \u001b[0;34m-\u001b[0m \u001b[0mplayer_positions\u001b[0m\u001b[0;34m[\u001b[0m\u001b[0mplayer\u001b[0m\u001b[0;34m]\u001b[0m \u001b[0;34m-\u001b[0m \u001b[0;36m1\u001b[0m\u001b[0;34m)\u001b[0m \u001b[0;34m/\u001b[0m \u001b[0;36m2\u001b[0m\u001b[0;34m)\u001b[0m\u001b[0;34m\u001b[0m\u001b[0;34m\u001b[0m\u001b[0m\n\u001b[1;32m     58\u001b[0m             \u001b[0;31m# score += points_per_position * split / player_count[player_positions[player]]\u001b[0m\u001b[0;34m\u001b[0m\u001b[0;34m\u001b[0m\u001b[0;34m\u001b[0m\u001b[0m\n\u001b[0;32m---> 59\u001b[0;31m             \u001b[0mscore\u001b[0m \u001b[0;34m+=\u001b[0m \u001b[0msum\u001b[0m\u001b[0;34m(\u001b[0m\u001b[0mpoints_per_position_list\u001b[0m\u001b[0;34m[\u001b[0m\u001b[0mplayer_positions\u001b[0m\u001b[0;34m[\u001b[0m\u001b[0mplayer\u001b[0m\u001b[0;34m]\u001b[0m\u001b[0;34m+\u001b[0m\u001b[0;36m1\u001b[0m\u001b[0;34m:\u001b[0m\u001b[0msplit\u001b[0m\u001b[0;34m+\u001b[0m\u001b[0;36m1\u001b[0m\u001b[0;34m]\u001b[0m\u001b[0;34m)\u001b[0m \u001b[0;34m/\u001b[0m \u001b[0mplayer_count\u001b[0m\u001b[0;34m[\u001b[0m\u001b[0mplayer_positions\u001b[0m\u001b[0;34m[\u001b[0m\u001b[0mplayer\u001b[0m\u001b[0;34m]\u001b[0m\u001b[0;34m]\u001b[0m\u001b[0;34m\u001b[0m\u001b[0;34m\u001b[0m\u001b[0m\n\u001b[0m\u001b[1;32m     60\u001b[0m         \u001b[0;32melse\u001b[0m\u001b[0;34m:\u001b[0m\u001b[0;34m\u001b[0m\u001b[0;34m\u001b[0m\u001b[0m\n\u001b[1;32m     61\u001b[0m             \u001b[0msplit\u001b[0m \u001b[0;34m=\u001b[0m \u001b[0mplayer_positions\u001b[0m\u001b[0;34m[\u001b[0m\u001b[0mplayer\u001b[0m\u001b[0;34m]\u001b[0m \u001b[0;34m+\u001b[0m \u001b[0mint\u001b[0m\u001b[0;34m(\u001b[0m\u001b[0;34m(\u001b[0m\u001b[0mright_neighbour\u001b[0m \u001b[0;34m-\u001b[0m \u001b[0mplayer_positions\u001b[0m\u001b[0;34m[\u001b[0m\u001b[0mplayer\u001b[0m\u001b[0;34m]\u001b[0m \u001b[0;34m-\u001b[0m \u001b[0;36m2\u001b[0m\u001b[0;34m)\u001b[0m \u001b[0;34m/\u001b[0m \u001b[0;36m2\u001b[0m\u001b[0;34m)\u001b[0m\u001b[0;34m\u001b[0m\u001b[0;34m\u001b[0m\u001b[0m\n",
      "\u001b[0;31mKeyboardInterrupt\u001b[0m: "
     ]
    }
   ],
   "source": [
    "iterative_method_functions.election_equilibrium(7,10,normal=True)"
   ]
  },
  {
   "cell_type": "code",
   "execution_count": null,
   "metadata": {},
   "outputs": [
    {
     "name": "stdout",
     "output_type": "stream",
     "text": [
      "No equilibria found after 1000 simulations!\n"
     ]
    }
   ],
   "source": [
    "iterative_method_functions.election_equilibrium(8,10,normal=True)"
   ]
  },
  {
   "cell_type": "code",
   "execution_count": null,
   "metadata": {},
   "outputs": [
    {
     "name": "stdout",
     "output_type": "stream",
     "text": [
      "No equilibria found after 1000 simulations!\n"
     ]
    }
   ],
   "source": [
    "iterative_method_functions.election_equilibrium(9,10,normal=True)"
   ]
  },
  {
   "cell_type": "code",
   "execution_count": null,
   "metadata": {},
   "outputs": [
    {
     "name": "stdout",
     "output_type": "stream",
     "text": [
      "No equilibria found after 1000 simulations!\n"
     ]
    }
   ],
   "source": [
    "iterative_method_functions.election_equilibrium(10,10,normal=True)"
   ]
  }
 ],
 "metadata": {
  "kernelspec": {
   "display_name": "base",
   "language": "python",
   "name": "python3"
  },
  "language_info": {
   "codemirror_mode": {
    "name": "ipython",
    "version": 3
   },
   "file_extension": ".py",
   "mimetype": "text/x-python",
   "name": "python",
   "nbconvert_exporter": "python",
   "pygments_lexer": "ipython3",
   "version": "3.8.12"
  }
 },
 "nbformat": 4,
 "nbformat_minor": 2
}
